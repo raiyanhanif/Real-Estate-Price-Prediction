{
 "cells": [
  {
   "cell_type": "markdown",
   "id": "84bf53fc",
   "metadata": {},
   "source": [
    "#### Statistical Information of data "
   ]
  },
  {
   "cell_type": "markdown",
   "id": "6edabc3b",
   "metadata": {},
   "source": [
    "2. Is the data \"bad\" or \"good\"?\n",
    "👉 There are some signs that there may be outliers or weird values:\n",
    "\n",
    "Area_SqFt:\n",
    "\n",
    "min = 33.57, okay for small studio.\n",
    "\n",
    "But max = 100,000 sq ft is too big for a normal flat — looks like a huge building! (outlier) 🚨\n",
    "\n",
    "Rate_SqFt:\n",
    "\n",
    "min = 84.00, okay.\n",
    "\n",
    "But max = 1,650,000 per sq ft? This is crazy high — probably wrong data or luxury project. (outlier) 🚨\n",
    "\n",
    "Floor_No:\n",
    "\n",
    "min = -1, which is strange — negative floor number? Maybe basement, but usually it should be properly handled. 🚨\n",
    "\n",
    "Bedroom, Bathroom:\n",
    "\n",
    "Values like 6 bedrooms and 7 bathrooms — rare but possible for big penthouses. Not major problem.\n",
    "\n",
    "Price_Lakh:\n",
    "\n",
    "min = 13 lakh — okay.\n",
    "\n",
    "max = 16500 lakh = 165 Crore → very expensive property (luxury), but acceptable if Mumbai's premium area.\n",
    "\n"
   ]
  },
  {
   "cell_type": "markdown",
   "id": "3924f4a1",
   "metadata": {},
   "source": [
    "This threshold of 53 is chosen based on the assumption that continuous variables (like Area_SqFt or Price_Lakh) tend to have many unique values. In contrast, categorical variables usually have fewer unique values (e.g., Bedroom, Bathroom, or Floor_No might not have as many unique values)."
   ]
  },
  {
   "cell_type": "code",
   "execution_count": null,
   "id": "3e1b9c6b",
   "metadata": {},
   "outputs": [],
   "source": []
  }
 ],
 "metadata": {
  "kernelspec": {
   "display_name": "Python 3",
   "language": "python",
   "name": "python3"
  },
  "language_info": {
   "name": "python",
   "version": "3.13.1"
  }
 },
 "nbformat": 4,
 "nbformat_minor": 5
}

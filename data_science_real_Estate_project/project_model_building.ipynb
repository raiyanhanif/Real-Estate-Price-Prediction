{
 "cells": [
  {
   "cell_type": "markdown",
   "id": "4962ffc0",
   "metadata": {},
   "source": [
    "## Real Estate Model Building"
   ]
  },
  {
   "cell_type": "markdown",
   "id": "ff6b6c69",
   "metadata": {},
   "source": [
    "## 1.Important sklearn libraries."
   ]
  },
  {
   "cell_type": "code",
   "execution_count": 1,
   "id": "afd80922",
   "metadata": {},
   "outputs": [],
   "source": [
    "import numpy as np\n",
    "import pandas as pd\n",
    "import seaborn as sns\n",
    "import matplotlib.pyplot as plt\n",
    "import matplotlib.pylab as pylab\n",
    "from sklearn.preprocessing import LabelEncoder\n",
    "from sklearn.model_selection import train_test_split\n",
    "    "
   ]
  },
  {
   "cell_type": "markdown",
   "id": "d51b64b0",
   "metadata": {},
   "source": [
    "## 2. Import Dataset"
   ]
  },
  {
   "cell_type": "code",
   "execution_count": 2,
   "id": "7f6d5acb",
   "metadata": {},
   "outputs": [
    {
     "data": {
      "text/html": [
       "<div>\n",
       "<style scoped>\n",
       "    .dataframe tbody tr th:only-of-type {\n",
       "        vertical-align: middle;\n",
       "    }\n",
       "\n",
       "    .dataframe tbody tr th {\n",
       "        vertical-align: top;\n",
       "    }\n",
       "\n",
       "    .dataframe thead th {\n",
       "        text-align: right;\n",
       "    }\n",
       "</style>\n",
       "<table border=\"1\" class=\"dataframe\">\n",
       "  <thead>\n",
       "    <tr style=\"text-align: right;\">\n",
       "      <th></th>\n",
       "      <th>Property_Name</th>\n",
       "      <th>Location</th>\n",
       "      <th>Region</th>\n",
       "      <th>Property_Age</th>\n",
       "      <th>Availability</th>\n",
       "      <th>Area_Type</th>\n",
       "      <th>Area_SqFt</th>\n",
       "      <th>Rate_SqFt</th>\n",
       "      <th>Floor_No</th>\n",
       "      <th>Bedroom</th>\n",
       "      <th>Bathroom</th>\n",
       "      <th>Price_Lakh</th>\n",
       "    </tr>\n",
       "  </thead>\n",
       "  <tbody>\n",
       "    <tr>\n",
       "      <th>0</th>\n",
       "      <td>Omkar Alta Monte</td>\n",
       "      <td>W E Highway Malad East Mumbai</td>\n",
       "      <td>Highway Malad</td>\n",
       "      <td>0 to 1 Year</td>\n",
       "      <td>Ready To Move</td>\n",
       "      <td>Super Built Up Area</td>\n",
       "      <td>1943.875</td>\n",
       "      <td>17241.0</td>\n",
       "      <td>14.0</td>\n",
       "      <td>3</td>\n",
       "      <td>4</td>\n",
       "      <td>399.5</td>\n",
       "    </tr>\n",
       "    <tr>\n",
       "      <th>1</th>\n",
       "      <td>T Bhimjyani Neelkanth Woods</td>\n",
       "      <td>Manpada Thane Mumbai</td>\n",
       "      <td>Manpada Thane</td>\n",
       "      <td>1 to 5 Year</td>\n",
       "      <td>Ready To Move</td>\n",
       "      <td>Super Built Up Area</td>\n",
       "      <td>1900.000</td>\n",
       "      <td>12631.0</td>\n",
       "      <td>8.0</td>\n",
       "      <td>3</td>\n",
       "      <td>3</td>\n",
       "      <td>240.0</td>\n",
       "    </tr>\n",
       "    <tr>\n",
       "      <th>2</th>\n",
       "      <td>Legend 1 Pramila Nagar</td>\n",
       "      <td>Dahisar West Mumbai</td>\n",
       "      <td>Dahisar Mumbai</td>\n",
       "      <td>10+ Year</td>\n",
       "      <td>Ready To Move</td>\n",
       "      <td>Super Built Up Area</td>\n",
       "      <td>595.000</td>\n",
       "      <td>15966.0</td>\n",
       "      <td>3.0</td>\n",
       "      <td>1</td>\n",
       "      <td>2</td>\n",
       "      <td>95.0</td>\n",
       "    </tr>\n",
       "    <tr>\n",
       "      <th>3</th>\n",
       "      <td>Unnamed Property</td>\n",
       "      <td>Vidyavihar West Vidyavihar West Central Mumbai...</td>\n",
       "      <td>Central Mumbai</td>\n",
       "      <td>5 to 10 Year</td>\n",
       "      <td>Ready To Move</td>\n",
       "      <td>Built Up Area</td>\n",
       "      <td>1450.000</td>\n",
       "      <td>25862.0</td>\n",
       "      <td>1.0</td>\n",
       "      <td>3</td>\n",
       "      <td>3</td>\n",
       "      <td>375.0</td>\n",
       "    </tr>\n",
       "    <tr>\n",
       "      <th>4</th>\n",
       "      <td>Unnamed Property</td>\n",
       "      <td>176 Cst Road Kalina Mumbai 400098 Santacruz Ea...</td>\n",
       "      <td>Santacruz Mumbai</td>\n",
       "      <td>5 to 10 Year</td>\n",
       "      <td>Ready To Move</td>\n",
       "      <td>Carpet Area</td>\n",
       "      <td>876.000</td>\n",
       "      <td>39954.0</td>\n",
       "      <td>5.0</td>\n",
       "      <td>2</td>\n",
       "      <td>2</td>\n",
       "      <td>350.0</td>\n",
       "    </tr>\n",
       "    <tr>\n",
       "      <th>...</th>\n",
       "      <td>...</td>\n",
       "      <td>...</td>\n",
       "      <td>...</td>\n",
       "      <td>...</td>\n",
       "      <td>...</td>\n",
       "      <td>...</td>\n",
       "      <td>...</td>\n",
       "      <td>...</td>\n",
       "      <td>...</td>\n",
       "      <td>...</td>\n",
       "      <td>...</td>\n",
       "      <td>...</td>\n",
       "    </tr>\n",
       "    <tr>\n",
       "      <th>2575</th>\n",
       "      <td>Shagun White Woods</td>\n",
       "      <td>Sector 23 Ulwe Navi Mumbai Mumbai</td>\n",
       "      <td>Ulwe Navi-Mumbai</td>\n",
       "      <td>1 to 5 Year</td>\n",
       "      <td>Ready To Move</td>\n",
       "      <td>Built Up Area</td>\n",
       "      <td>1180.000</td>\n",
       "      <td>10338.0</td>\n",
       "      <td>2.0</td>\n",
       "      <td>2</td>\n",
       "      <td>2</td>\n",
       "      <td>122.0</td>\n",
       "    </tr>\n",
       "    <tr>\n",
       "      <th>2576</th>\n",
       "      <td>Guru Anant</td>\n",
       "      <td>Sector 2 Ulwe Navi Mumbai Mumbai</td>\n",
       "      <td>Ulwe Navi-Mumbai</td>\n",
       "      <td>0 to 1 Year</td>\n",
       "      <td>Ready To Move</td>\n",
       "      <td>Built Up Area</td>\n",
       "      <td>1090.000</td>\n",
       "      <td>8073.0</td>\n",
       "      <td>11.0</td>\n",
       "      <td>2</td>\n",
       "      <td>2</td>\n",
       "      <td>88.0</td>\n",
       "    </tr>\n",
       "    <tr>\n",
       "      <th>2577</th>\n",
       "      <td>Balaji Mayuresh Delta</td>\n",
       "      <td>Ulwe Navi Mumbai Mumbai</td>\n",
       "      <td>Ulwe Navi-Mumbai</td>\n",
       "      <td>1 to 5 Year</td>\n",
       "      <td>Ready To Move</td>\n",
       "      <td>Built Up Area</td>\n",
       "      <td>1295.000</td>\n",
       "      <td>10579.0</td>\n",
       "      <td>6.0</td>\n",
       "      <td>2</td>\n",
       "      <td>2</td>\n",
       "      <td>137.0</td>\n",
       "    </tr>\n",
       "    <tr>\n",
       "      <th>2578</th>\n",
       "      <td>Balaji Mayuresh Delta</td>\n",
       "      <td>Ulwe Navi Mumbai Mumbai</td>\n",
       "      <td>Ulwe Navi-Mumbai</td>\n",
       "      <td>1 to 5 Year</td>\n",
       "      <td>Ready To Move</td>\n",
       "      <td>Built Up Area</td>\n",
       "      <td>1850.000</td>\n",
       "      <td>9243.0</td>\n",
       "      <td>6.0</td>\n",
       "      <td>3</td>\n",
       "      <td>3</td>\n",
       "      <td>171.0</td>\n",
       "    </tr>\n",
       "    <tr>\n",
       "      <th>2579</th>\n",
       "      <td>Gurukrupa Tulsi Heights</td>\n",
       "      <td>Ulwe Navi Mumbai Mumbai</td>\n",
       "      <td>Ulwe Navi-Mumbai</td>\n",
       "      <td>0 to 1 Year</td>\n",
       "      <td>Ready To Move</td>\n",
       "      <td>Built Up Area</td>\n",
       "      <td>1100.000</td>\n",
       "      <td>8636.0</td>\n",
       "      <td>4.0</td>\n",
       "      <td>2</td>\n",
       "      <td>2</td>\n",
       "      <td>95.0</td>\n",
       "    </tr>\n",
       "  </tbody>\n",
       "</table>\n",
       "<p>2571 rows × 12 columns</p>\n",
       "</div>"
      ],
      "text/plain": [
       "                     Property_Name  \\\n",
       "0                Omkar Alta Monte    \n",
       "1     T Bhimjyani Neelkanth Woods    \n",
       "2          Legend 1 Pramila Nagar    \n",
       "3                 Unnamed Property   \n",
       "4                 Unnamed Property   \n",
       "...                            ...   \n",
       "2575           Shagun White Woods    \n",
       "2576                   Guru Anant    \n",
       "2577        Balaji Mayuresh Delta    \n",
       "2578        Balaji Mayuresh Delta    \n",
       "2579      Gurukrupa Tulsi Heights    \n",
       "\n",
       "                                               Location            Region  \\\n",
       "0                         W E Highway Malad East Mumbai     Highway Malad   \n",
       "1                                  Manpada Thane Mumbai     Manpada Thane   \n",
       "2                                   Dahisar West Mumbai    Dahisar Mumbai   \n",
       "3     Vidyavihar West Vidyavihar West Central Mumbai...    Central Mumbai   \n",
       "4     176 Cst Road Kalina Mumbai 400098 Santacruz Ea...  Santacruz Mumbai   \n",
       "...                                                 ...               ...   \n",
       "2575                  Sector 23 Ulwe Navi Mumbai Mumbai  Ulwe Navi-Mumbai   \n",
       "2576                   Sector 2 Ulwe Navi Mumbai Mumbai  Ulwe Navi-Mumbai   \n",
       "2577                            Ulwe Navi Mumbai Mumbai  Ulwe Navi-Mumbai   \n",
       "2578                            Ulwe Navi Mumbai Mumbai  Ulwe Navi-Mumbai   \n",
       "2579                            Ulwe Navi Mumbai Mumbai  Ulwe Navi-Mumbai   \n",
       "\n",
       "      Property_Age   Availability            Area_Type  Area_SqFt  Rate_SqFt  \\\n",
       "0      0 to 1 Year  Ready To Move  Super Built Up Area   1943.875    17241.0   \n",
       "1      1 to 5 Year  Ready To Move  Super Built Up Area   1900.000    12631.0   \n",
       "2         10+ Year  Ready To Move  Super Built Up Area    595.000    15966.0   \n",
       "3     5 to 10 Year  Ready To Move        Built Up Area   1450.000    25862.0   \n",
       "4     5 to 10 Year  Ready To Move          Carpet Area    876.000    39954.0   \n",
       "...            ...            ...                  ...        ...        ...   \n",
       "2575   1 to 5 Year  Ready To Move        Built Up Area   1180.000    10338.0   \n",
       "2576   0 to 1 Year  Ready To Move        Built Up Area   1090.000     8073.0   \n",
       "2577   1 to 5 Year  Ready To Move        Built Up Area   1295.000    10579.0   \n",
       "2578   1 to 5 Year  Ready To Move        Built Up Area   1850.000     9243.0   \n",
       "2579   0 to 1 Year  Ready To Move        Built Up Area   1100.000     8636.0   \n",
       "\n",
       "      Floor_No  Bedroom  Bathroom  Price_Lakh  \n",
       "0         14.0        3         4       399.5  \n",
       "1          8.0        3         3       240.0  \n",
       "2          3.0        1         2        95.0  \n",
       "3          1.0        3         3       375.0  \n",
       "4          5.0        2         2       350.0  \n",
       "...        ...      ...       ...         ...  \n",
       "2575       2.0        2         2       122.0  \n",
       "2576      11.0        2         2        88.0  \n",
       "2577       6.0        2         2       137.0  \n",
       "2578       6.0        3         3       171.0  \n",
       "2579       4.0        2         2        95.0  \n",
       "\n",
       "[2571 rows x 12 columns]"
      ]
     },
     "execution_count": 2,
     "metadata": {},
     "output_type": "execute_result"
    }
   ],
   "source": [
    "mum_prop = pd.read_csv('Datasets/Final_Project.csv')\n",
    "mum_prop"
   ]
  },
  {
   "cell_type": "markdown",
   "id": "ee91274f",
   "metadata": {},
   "source": [
    "## 3. Data Understanding"
   ]
  },
  {
   "cell_type": "code",
   "execution_count": 3,
   "id": "61144d65",
   "metadata": {},
   "outputs": [
    {
     "data": {
      "text/plain": [
       "(2571, 12)"
      ]
     },
     "execution_count": 3,
     "metadata": {},
     "output_type": "execute_result"
    }
   ],
   "source": [
    "mum_prop.shape"
   ]
  },
  {
   "cell_type": "code",
   "execution_count": 4,
   "id": "021f9b67",
   "metadata": {},
   "outputs": [
    {
     "name": "stdout",
     "output_type": "stream",
     "text": [
      "<class 'pandas.core.frame.DataFrame'>\n",
      "Index: 2571 entries, 0 to 2579\n",
      "Data columns (total 12 columns):\n",
      " #   Column         Non-Null Count  Dtype  \n",
      "---  ------         --------------  -----  \n",
      " 0   Property_Name  2571 non-null   object \n",
      " 1   Location       2571 non-null   object \n",
      " 2   Region         2571 non-null   object \n",
      " 3   Property_Age   2571 non-null   object \n",
      " 4   Availability   2571 non-null   object \n",
      " 5   Area_Type      2571 non-null   object \n",
      " 6   Area_SqFt      2571 non-null   float64\n",
      " 7   Rate_SqFt      2571 non-null   float64\n",
      " 8   Floor_No       2571 non-null   float64\n",
      " 9   Bedroom        2571 non-null   int64  \n",
      " 10  Bathroom       2571 non-null   int64  \n",
      " 11  Price_Lakh     2571 non-null   float64\n",
      "dtypes: float64(4), int64(2), object(6)\n",
      "memory usage: 261.1+ KB\n"
     ]
    }
   ],
   "source": [
    "mum_prop.info()"
   ]
  },
  {
   "cell_type": "code",
   "execution_count": 5,
   "id": "9384bdc6",
   "metadata": {},
   "outputs": [
    {
     "data": {
      "text/plain": [
       "Property_Name    0\n",
       "Location         0\n",
       "Region           0\n",
       "Property_Age     0\n",
       "Availability     0\n",
       "Area_Type        0\n",
       "Area_SqFt        0\n",
       "Rate_SqFt        0\n",
       "Floor_No         0\n",
       "Bedroom          0\n",
       "Bathroom         0\n",
       "Price_Lakh       0\n",
       "dtype: int64"
      ]
     },
     "execution_count": 5,
     "metadata": {},
     "output_type": "execute_result"
    }
   ],
   "source": [
    "mum_prop.isna().sum()"
   ]
  },
  {
   "cell_type": "code",
   "execution_count": 6,
   "id": "96912593",
   "metadata": {},
   "outputs": [
    {
     "data": {
      "text/html": [
       "<div>\n",
       "<style scoped>\n",
       "    .dataframe tbody tr th:only-of-type {\n",
       "        vertical-align: middle;\n",
       "    }\n",
       "\n",
       "    .dataframe tbody tr th {\n",
       "        vertical-align: top;\n",
       "    }\n",
       "\n",
       "    .dataframe thead th {\n",
       "        text-align: right;\n",
       "    }\n",
       "</style>\n",
       "<table border=\"1\" class=\"dataframe\">\n",
       "  <thead>\n",
       "    <tr style=\"text-align: right;\">\n",
       "      <th></th>\n",
       "      <th>Area_SqFt</th>\n",
       "      <th>Rate_SqFt</th>\n",
       "      <th>Floor_No</th>\n",
       "      <th>Bedroom</th>\n",
       "      <th>Bathroom</th>\n",
       "      <th>Price_Lakh</th>\n",
       "    </tr>\n",
       "  </thead>\n",
       "  <tbody>\n",
       "    <tr>\n",
       "      <th>count</th>\n",
       "      <td>2571.0</td>\n",
       "      <td>2571.0</td>\n",
       "      <td>2571.0</td>\n",
       "      <td>2571.0</td>\n",
       "      <td>2571.0</td>\n",
       "      <td>2571.0</td>\n",
       "    </tr>\n",
       "    <tr>\n",
       "      <th>mean</th>\n",
       "      <td>929.0</td>\n",
       "      <td>16741.0</td>\n",
       "      <td>8.0</td>\n",
       "      <td>2.0</td>\n",
       "      <td>2.0</td>\n",
       "      <td>149.0</td>\n",
       "    </tr>\n",
       "    <tr>\n",
       "      <th>std</th>\n",
       "      <td>419.0</td>\n",
       "      <td>10242.0</td>\n",
       "      <td>7.0</td>\n",
       "      <td>1.0</td>\n",
       "      <td>1.0</td>\n",
       "      <td>108.0</td>\n",
       "    </tr>\n",
       "    <tr>\n",
       "      <th>min</th>\n",
       "      <td>34.0</td>\n",
       "      <td>84.0</td>\n",
       "      <td>-1.0</td>\n",
       "      <td>1.0</td>\n",
       "      <td>1.0</td>\n",
       "      <td>13.0</td>\n",
       "    </tr>\n",
       "    <tr>\n",
       "      <th>25%</th>\n",
       "      <td>630.0</td>\n",
       "      <td>8776.0</td>\n",
       "      <td>3.0</td>\n",
       "      <td>1.0</td>\n",
       "      <td>2.0</td>\n",
       "      <td>67.0</td>\n",
       "    </tr>\n",
       "    <tr>\n",
       "      <th>50%</th>\n",
       "      <td>850.0</td>\n",
       "      <td>13777.0</td>\n",
       "      <td>6.0</td>\n",
       "      <td>2.0</td>\n",
       "      <td>2.0</td>\n",
       "      <td>111.0</td>\n",
       "    </tr>\n",
       "    <tr>\n",
       "      <th>75%</th>\n",
       "      <td>1156.0</td>\n",
       "      <td>22652.0</td>\n",
       "      <td>12.0</td>\n",
       "      <td>2.0</td>\n",
       "      <td>2.0</td>\n",
       "      <td>200.0</td>\n",
       "    </tr>\n",
       "    <tr>\n",
       "      <th>max</th>\n",
       "      <td>1944.0</td>\n",
       "      <td>43437.0</td>\n",
       "      <td>26.0</td>\n",
       "      <td>6.0</td>\n",
       "      <td>7.0</td>\n",
       "      <td>400.0</td>\n",
       "    </tr>\n",
       "  </tbody>\n",
       "</table>\n",
       "</div>"
      ],
      "text/plain": [
       "       Area_SqFt  Rate_SqFt  Floor_No  Bedroom  Bathroom  Price_Lakh\n",
       "count     2571.0     2571.0    2571.0   2571.0    2571.0      2571.0\n",
       "mean       929.0    16741.0       8.0      2.0       2.0       149.0\n",
       "std        419.0    10242.0       7.0      1.0       1.0       108.0\n",
       "min         34.0       84.0      -1.0      1.0       1.0        13.0\n",
       "25%        630.0     8776.0       3.0      1.0       2.0        67.0\n",
       "50%        850.0    13777.0       6.0      2.0       2.0       111.0\n",
       "75%       1156.0    22652.0      12.0      2.0       2.0       200.0\n",
       "max       1944.0    43437.0      26.0      6.0       7.0       400.0"
      ]
     },
     "execution_count": 6,
     "metadata": {},
     "output_type": "execute_result"
    }
   ],
   "source": [
    "mum_prop.describe().round()"
   ]
  },
  {
   "cell_type": "markdown",
   "id": "5446ebec",
   "metadata": {},
   "source": [
    "## 4. Feature Engineering"
   ]
  },
  {
   "cell_type": "markdown",
   "id": "333f708c",
   "metadata": {},
   "source": [
    "### 4.1 Drop Unwanted Columns"
   ]
  },
  {
   "cell_type": "code",
   "execution_count": 7,
   "id": "acfa2316",
   "metadata": {},
   "outputs": [
    {
     "data": {
      "text/html": [
       "<div>\n",
       "<style scoped>\n",
       "    .dataframe tbody tr th:only-of-type {\n",
       "        vertical-align: middle;\n",
       "    }\n",
       "\n",
       "    .dataframe tbody tr th {\n",
       "        vertical-align: top;\n",
       "    }\n",
       "\n",
       "    .dataframe thead th {\n",
       "        text-align: right;\n",
       "    }\n",
       "</style>\n",
       "<table border=\"1\" class=\"dataframe\">\n",
       "  <thead>\n",
       "    <tr style=\"text-align: right;\">\n",
       "      <th></th>\n",
       "      <th>Property_Name</th>\n",
       "      <th>Location</th>\n",
       "      <th>Region</th>\n",
       "      <th>Property_Age</th>\n",
       "      <th>Availability</th>\n",
       "      <th>Area_Type</th>\n",
       "      <th>Area_SqFt</th>\n",
       "      <th>Rate_SqFt</th>\n",
       "      <th>Floor_No</th>\n",
       "      <th>Bedroom</th>\n",
       "      <th>Bathroom</th>\n",
       "      <th>Price_Lakh</th>\n",
       "    </tr>\n",
       "  </thead>\n",
       "  <tbody>\n",
       "    <tr>\n",
       "      <th>0</th>\n",
       "      <td>Omkar Alta Monte</td>\n",
       "      <td>W E Highway Malad East Mumbai</td>\n",
       "      <td>Highway Malad</td>\n",
       "      <td>0 to 1 Year</td>\n",
       "      <td>Ready To Move</td>\n",
       "      <td>Super Built Up Area</td>\n",
       "      <td>1943.875</td>\n",
       "      <td>17241.0</td>\n",
       "      <td>14.0</td>\n",
       "      <td>3</td>\n",
       "      <td>4</td>\n",
       "      <td>399.5</td>\n",
       "    </tr>\n",
       "    <tr>\n",
       "      <th>1</th>\n",
       "      <td>T Bhimjyani Neelkanth Woods</td>\n",
       "      <td>Manpada Thane Mumbai</td>\n",
       "      <td>Manpada Thane</td>\n",
       "      <td>1 to 5 Year</td>\n",
       "      <td>Ready To Move</td>\n",
       "      <td>Super Built Up Area</td>\n",
       "      <td>1900.000</td>\n",
       "      <td>12631.0</td>\n",
       "      <td>8.0</td>\n",
       "      <td>3</td>\n",
       "      <td>3</td>\n",
       "      <td>240.0</td>\n",
       "    </tr>\n",
       "    <tr>\n",
       "      <th>2</th>\n",
       "      <td>Legend 1 Pramila Nagar</td>\n",
       "      <td>Dahisar West Mumbai</td>\n",
       "      <td>Dahisar Mumbai</td>\n",
       "      <td>10+ Year</td>\n",
       "      <td>Ready To Move</td>\n",
       "      <td>Super Built Up Area</td>\n",
       "      <td>595.000</td>\n",
       "      <td>15966.0</td>\n",
       "      <td>3.0</td>\n",
       "      <td>1</td>\n",
       "      <td>2</td>\n",
       "      <td>95.0</td>\n",
       "    </tr>\n",
       "    <tr>\n",
       "      <th>3</th>\n",
       "      <td>Unnamed Property</td>\n",
       "      <td>Vidyavihar West Vidyavihar West Central Mumbai...</td>\n",
       "      <td>Central Mumbai</td>\n",
       "      <td>5 to 10 Year</td>\n",
       "      <td>Ready To Move</td>\n",
       "      <td>Built Up Area</td>\n",
       "      <td>1450.000</td>\n",
       "      <td>25862.0</td>\n",
       "      <td>1.0</td>\n",
       "      <td>3</td>\n",
       "      <td>3</td>\n",
       "      <td>375.0</td>\n",
       "    </tr>\n",
       "    <tr>\n",
       "      <th>4</th>\n",
       "      <td>Unnamed Property</td>\n",
       "      <td>176 Cst Road Kalina Mumbai 400098 Santacruz Ea...</td>\n",
       "      <td>Santacruz Mumbai</td>\n",
       "      <td>5 to 10 Year</td>\n",
       "      <td>Ready To Move</td>\n",
       "      <td>Carpet Area</td>\n",
       "      <td>876.000</td>\n",
       "      <td>39954.0</td>\n",
       "      <td>5.0</td>\n",
       "      <td>2</td>\n",
       "      <td>2</td>\n",
       "      <td>350.0</td>\n",
       "    </tr>\n",
       "  </tbody>\n",
       "</table>\n",
       "</div>"
      ],
      "text/plain": [
       "                  Property_Name  \\\n",
       "0             Omkar Alta Monte    \n",
       "1  T Bhimjyani Neelkanth Woods    \n",
       "2       Legend 1 Pramila Nagar    \n",
       "3              Unnamed Property   \n",
       "4              Unnamed Property   \n",
       "\n",
       "                                            Location            Region  \\\n",
       "0                      W E Highway Malad East Mumbai     Highway Malad   \n",
       "1                               Manpada Thane Mumbai     Manpada Thane   \n",
       "2                                Dahisar West Mumbai    Dahisar Mumbai   \n",
       "3  Vidyavihar West Vidyavihar West Central Mumbai...    Central Mumbai   \n",
       "4  176 Cst Road Kalina Mumbai 400098 Santacruz Ea...  Santacruz Mumbai   \n",
       "\n",
       "   Property_Age   Availability            Area_Type  Area_SqFt  Rate_SqFt  \\\n",
       "0   0 to 1 Year  Ready To Move  Super Built Up Area   1943.875    17241.0   \n",
       "1   1 to 5 Year  Ready To Move  Super Built Up Area   1900.000    12631.0   \n",
       "2      10+ Year  Ready To Move  Super Built Up Area    595.000    15966.0   \n",
       "3  5 to 10 Year  Ready To Move        Built Up Area   1450.000    25862.0   \n",
       "4  5 to 10 Year  Ready To Move          Carpet Area    876.000    39954.0   \n",
       "\n",
       "   Floor_No  Bedroom  Bathroom  Price_Lakh  \n",
       "0      14.0        3         4       399.5  \n",
       "1       8.0        3         3       240.0  \n",
       "2       3.0        1         2        95.0  \n",
       "3       1.0        3         3       375.0  \n",
       "4       5.0        2         2       350.0  "
      ]
     },
     "execution_count": 7,
     "metadata": {},
     "output_type": "execute_result"
    }
   ],
   "source": [
    "mum_prop.head()"
   ]
  },
  {
   "cell_type": "code",
   "execution_count": 8,
   "id": "96237eb3",
   "metadata": {},
   "outputs": [
    {
     "name": "stdout",
     "output_type": "stream",
     "text": [
      "Shape of data : (2571, 8)\n"
     ]
    }
   ],
   "source": [
    "mum_prop.drop(columns=['Property_Name', 'Location','Availability','Bathroom'], inplace =  True)\n",
    "print('Shape of data :', mum_prop.shape)"
   ]
  },
  {
   "cell_type": "code",
   "execution_count": 9,
   "id": "a594107a",
   "metadata": {},
   "outputs": [
    {
     "name": "stdout",
     "output_type": "stream",
     "text": [
      "[ 63 111  45 ... 192 192 192]\n"
     ]
    }
   ],
   "source": [
    "from sklearn.preprocessing import LabelEncoder\n",
    "\n",
    "region_column = mum_prop['Region']\n",
    "\n",
    "le = LabelEncoder()\n",
    "encoded = le.fit_transform(region_column)\n",
    "print(encoded)\n"
   ]
  },
  {
   "cell_type": "code",
   "execution_count": 10,
   "id": "b7c9f3a0",
   "metadata": {},
   "outputs": [
    {
     "name": "stdout",
     "output_type": "stream",
     "text": [
      "[2 1 0 1 2]\n"
     ]
    }
   ],
   "source": [
    "from sklearn.preprocessing import LabelEncoder\n",
    "\n",
    "data = ['red', 'green', 'blue', 'green', 'red']\n",
    "le = LabelEncoder()\n",
    "\n",
    "encoded = le.fit_transform(data)\n",
    "print(encoded)\n"
   ]
  },
  {
   "cell_type": "code",
   "execution_count": 11,
   "id": "45de1d2b",
   "metadata": {},
   "outputs": [
    {
     "name": "stdout",
     "output_type": "stream",
     "text": [
      "Encoded: [2 1 0 1 2]\n",
      "Original label for 2: red\n"
     ]
    }
   ],
   "source": [
    "from sklearn.preprocessing import LabelEncoder\n",
    "\n",
    "data = ['red', 'green', 'blue', 'green', 'red']\n",
    "le = LabelEncoder()\n",
    "encoded = le.fit_transform(data)\n",
    "\n",
    "print(\"Encoded:\", encoded)\n",
    "\n",
    "# Now reverse it\n",
    "decoded = le.inverse_transform([2])\n",
    "print(\"Original label for 2:\", decoded[0])\n"
   ]
  },
  {
   "cell_type": "markdown",
   "id": "e4373a05",
   "metadata": {},
   "source": [
    "### 4.2 Label Encoding for Categorical Columns"
   ]
  },
  {
   "cell_type": "code",
   "execution_count": 12,
   "id": "0a6cdf5f",
   "metadata": {},
   "outputs": [],
   "source": [
    "le = LabelEncoder()"
   ]
  },
  {
   "cell_type": "code",
   "execution_count": 13,
   "id": "ab8470ec",
   "metadata": {},
   "outputs": [],
   "source": [
    "for column in mum_prop.describe(include='object').columns:\n",
    "    mum_prop[column] = le.fit_transform(mum_prop[column])"
   ]
  },
  {
   "cell_type": "code",
   "execution_count": 14,
   "id": "6d2da404",
   "metadata": {},
   "outputs": [
    {
     "data": {
      "text/html": [
       "<div>\n",
       "<style scoped>\n",
       "    .dataframe tbody tr th:only-of-type {\n",
       "        vertical-align: middle;\n",
       "    }\n",
       "\n",
       "    .dataframe tbody tr th {\n",
       "        vertical-align: top;\n",
       "    }\n",
       "\n",
       "    .dataframe thead th {\n",
       "        text-align: right;\n",
       "    }\n",
       "</style>\n",
       "<table border=\"1\" class=\"dataframe\">\n",
       "  <thead>\n",
       "    <tr style=\"text-align: right;\">\n",
       "      <th></th>\n",
       "      <th>count</th>\n",
       "      <th>mean</th>\n",
       "      <th>std</th>\n",
       "      <th>min</th>\n",
       "      <th>25%</th>\n",
       "      <th>50%</th>\n",
       "      <th>75%</th>\n",
       "      <th>max</th>\n",
       "    </tr>\n",
       "  </thead>\n",
       "  <tbody>\n",
       "    <tr>\n",
       "      <th>Region</th>\n",
       "      <td>2571.0</td>\n",
       "      <td>106.31</td>\n",
       "      <td>54.28</td>\n",
       "      <td>0.00</td>\n",
       "      <td>65.0</td>\n",
       "      <td>111.0</td>\n",
       "      <td>146.0</td>\n",
       "      <td>209.00</td>\n",
       "    </tr>\n",
       "    <tr>\n",
       "      <th>Property_Age</th>\n",
       "      <td>2571.0</td>\n",
       "      <td>1.28</td>\n",
       "      <td>1.08</td>\n",
       "      <td>0.00</td>\n",
       "      <td>0.0</td>\n",
       "      <td>1.0</td>\n",
       "      <td>2.0</td>\n",
       "      <td>5.00</td>\n",
       "    </tr>\n",
       "    <tr>\n",
       "      <th>Area_Type</th>\n",
       "      <td>2571.0</td>\n",
       "      <td>1.74</td>\n",
       "      <td>1.18</td>\n",
       "      <td>0.00</td>\n",
       "      <td>1.0</td>\n",
       "      <td>1.0</td>\n",
       "      <td>3.0</td>\n",
       "      <td>3.00</td>\n",
       "    </tr>\n",
       "    <tr>\n",
       "      <th>Area_SqFt</th>\n",
       "      <td>2571.0</td>\n",
       "      <td>928.99</td>\n",
       "      <td>419.27</td>\n",
       "      <td>33.57</td>\n",
       "      <td>630.5</td>\n",
       "      <td>850.0</td>\n",
       "      <td>1155.5</td>\n",
       "      <td>1943.88</td>\n",
       "    </tr>\n",
       "    <tr>\n",
       "      <th>Rate_SqFt</th>\n",
       "      <td>2571.0</td>\n",
       "      <td>16740.76</td>\n",
       "      <td>10241.56</td>\n",
       "      <td>84.00</td>\n",
       "      <td>8775.5</td>\n",
       "      <td>13777.0</td>\n",
       "      <td>22652.0</td>\n",
       "      <td>43437.38</td>\n",
       "    </tr>\n",
       "    <tr>\n",
       "      <th>Floor_No</th>\n",
       "      <td>2571.0</td>\n",
       "      <td>8.46</td>\n",
       "      <td>6.93</td>\n",
       "      <td>-1.00</td>\n",
       "      <td>3.0</td>\n",
       "      <td>6.0</td>\n",
       "      <td>12.0</td>\n",
       "      <td>25.50</td>\n",
       "    </tr>\n",
       "    <tr>\n",
       "      <th>Bedroom</th>\n",
       "      <td>2571.0</td>\n",
       "      <td>1.96</td>\n",
       "      <td>0.85</td>\n",
       "      <td>1.00</td>\n",
       "      <td>1.0</td>\n",
       "      <td>2.0</td>\n",
       "      <td>2.0</td>\n",
       "      <td>6.00</td>\n",
       "    </tr>\n",
       "    <tr>\n",
       "      <th>Price_Lakh</th>\n",
       "      <td>2571.0</td>\n",
       "      <td>148.82</td>\n",
       "      <td>107.70</td>\n",
       "      <td>13.00</td>\n",
       "      <td>67.0</td>\n",
       "      <td>111.0</td>\n",
       "      <td>200.0</td>\n",
       "      <td>399.50</td>\n",
       "    </tr>\n",
       "  </tbody>\n",
       "</table>\n",
       "</div>"
      ],
      "text/plain": [
       "               count      mean       std    min     25%      50%      75%  \\\n",
       "Region        2571.0    106.31     54.28   0.00    65.0    111.0    146.0   \n",
       "Property_Age  2571.0      1.28      1.08   0.00     0.0      1.0      2.0   \n",
       "Area_Type     2571.0      1.74      1.18   0.00     1.0      1.0      3.0   \n",
       "Area_SqFt     2571.0    928.99    419.27  33.57   630.5    850.0   1155.5   \n",
       "Rate_SqFt     2571.0  16740.76  10241.56  84.00  8775.5  13777.0  22652.0   \n",
       "Floor_No      2571.0      8.46      6.93  -1.00     3.0      6.0     12.0   \n",
       "Bedroom       2571.0      1.96      0.85   1.00     1.0      2.0      2.0   \n",
       "Price_Lakh    2571.0    148.82    107.70  13.00    67.0    111.0    200.0   \n",
       "\n",
       "                   max  \n",
       "Region          209.00  \n",
       "Property_Age      5.00  \n",
       "Area_Type         3.00  \n",
       "Area_SqFt      1943.88  \n",
       "Rate_SqFt     43437.38  \n",
       "Floor_No         25.50  \n",
       "Bedroom           6.00  \n",
       "Price_Lakh      399.50  "
      ]
     },
     "execution_count": 14,
     "metadata": {},
     "output_type": "execute_result"
    }
   ],
   "source": [
    "mum_prop.describe().round(2).T"
   ]
  },
  {
   "cell_type": "code",
   "execution_count": 15,
   "id": "52dd53ee",
   "metadata": {},
   "outputs": [
    {
     "data": {
      "text/html": [
       "<div>\n",
       "<style scoped>\n",
       "    .dataframe tbody tr th:only-of-type {\n",
       "        vertical-align: middle;\n",
       "    }\n",
       "\n",
       "    .dataframe tbody tr th {\n",
       "        vertical-align: top;\n",
       "    }\n",
       "\n",
       "    .dataframe thead th {\n",
       "        text-align: right;\n",
       "    }\n",
       "</style>\n",
       "<table border=\"1\" class=\"dataframe\">\n",
       "  <thead>\n",
       "    <tr style=\"text-align: right;\">\n",
       "      <th></th>\n",
       "      <th>Region</th>\n",
       "      <th>Property_Age</th>\n",
       "      <th>Area_Type</th>\n",
       "      <th>Area_SqFt</th>\n",
       "      <th>Rate_SqFt</th>\n",
       "      <th>Floor_No</th>\n",
       "      <th>Bedroom</th>\n",
       "      <th>Price_Lakh</th>\n",
       "    </tr>\n",
       "  </thead>\n",
       "  <tbody>\n",
       "    <tr>\n",
       "      <th>0</th>\n",
       "      <td>63</td>\n",
       "      <td>0</td>\n",
       "      <td>3</td>\n",
       "      <td>1943.875</td>\n",
       "      <td>17241.0</td>\n",
       "      <td>14.0</td>\n",
       "      <td>3</td>\n",
       "      <td>399.5</td>\n",
       "    </tr>\n",
       "    <tr>\n",
       "      <th>1</th>\n",
       "      <td>111</td>\n",
       "      <td>1</td>\n",
       "      <td>3</td>\n",
       "      <td>1900.000</td>\n",
       "      <td>12631.0</td>\n",
       "      <td>8.0</td>\n",
       "      <td>3</td>\n",
       "      <td>240.0</td>\n",
       "    </tr>\n",
       "    <tr>\n",
       "      <th>2</th>\n",
       "      <td>45</td>\n",
       "      <td>2</td>\n",
       "      <td>3</td>\n",
       "      <td>595.000</td>\n",
       "      <td>15966.0</td>\n",
       "      <td>3.0</td>\n",
       "      <td>1</td>\n",
       "      <td>95.0</td>\n",
       "    </tr>\n",
       "    <tr>\n",
       "      <th>3</th>\n",
       "      <td>31</td>\n",
       "      <td>3</td>\n",
       "      <td>0</td>\n",
       "      <td>1450.000</td>\n",
       "      <td>25862.0</td>\n",
       "      <td>1.0</td>\n",
       "      <td>3</td>\n",
       "      <td>375.0</td>\n",
       "    </tr>\n",
       "    <tr>\n",
       "      <th>4</th>\n",
       "      <td>170</td>\n",
       "      <td>3</td>\n",
       "      <td>1</td>\n",
       "      <td>876.000</td>\n",
       "      <td>39954.0</td>\n",
       "      <td>5.0</td>\n",
       "      <td>2</td>\n",
       "      <td>350.0</td>\n",
       "    </tr>\n",
       "    <tr>\n",
       "      <th>...</th>\n",
       "      <td>...</td>\n",
       "      <td>...</td>\n",
       "      <td>...</td>\n",
       "      <td>...</td>\n",
       "      <td>...</td>\n",
       "      <td>...</td>\n",
       "      <td>...</td>\n",
       "      <td>...</td>\n",
       "    </tr>\n",
       "    <tr>\n",
       "      <th>2575</th>\n",
       "      <td>192</td>\n",
       "      <td>1</td>\n",
       "      <td>0</td>\n",
       "      <td>1180.000</td>\n",
       "      <td>10338.0</td>\n",
       "      <td>2.0</td>\n",
       "      <td>2</td>\n",
       "      <td>122.0</td>\n",
       "    </tr>\n",
       "    <tr>\n",
       "      <th>2576</th>\n",
       "      <td>192</td>\n",
       "      <td>0</td>\n",
       "      <td>0</td>\n",
       "      <td>1090.000</td>\n",
       "      <td>8073.0</td>\n",
       "      <td>11.0</td>\n",
       "      <td>2</td>\n",
       "      <td>88.0</td>\n",
       "    </tr>\n",
       "    <tr>\n",
       "      <th>2577</th>\n",
       "      <td>192</td>\n",
       "      <td>1</td>\n",
       "      <td>0</td>\n",
       "      <td>1295.000</td>\n",
       "      <td>10579.0</td>\n",
       "      <td>6.0</td>\n",
       "      <td>2</td>\n",
       "      <td>137.0</td>\n",
       "    </tr>\n",
       "    <tr>\n",
       "      <th>2578</th>\n",
       "      <td>192</td>\n",
       "      <td>1</td>\n",
       "      <td>0</td>\n",
       "      <td>1850.000</td>\n",
       "      <td>9243.0</td>\n",
       "      <td>6.0</td>\n",
       "      <td>3</td>\n",
       "      <td>171.0</td>\n",
       "    </tr>\n",
       "    <tr>\n",
       "      <th>2579</th>\n",
       "      <td>192</td>\n",
       "      <td>0</td>\n",
       "      <td>0</td>\n",
       "      <td>1100.000</td>\n",
       "      <td>8636.0</td>\n",
       "      <td>4.0</td>\n",
       "      <td>2</td>\n",
       "      <td>95.0</td>\n",
       "    </tr>\n",
       "  </tbody>\n",
       "</table>\n",
       "<p>2571 rows × 8 columns</p>\n",
       "</div>"
      ],
      "text/plain": [
       "      Region  Property_Age  Area_Type  Area_SqFt  Rate_SqFt  Floor_No  \\\n",
       "0         63             0          3   1943.875    17241.0      14.0   \n",
       "1        111             1          3   1900.000    12631.0       8.0   \n",
       "2         45             2          3    595.000    15966.0       3.0   \n",
       "3         31             3          0   1450.000    25862.0       1.0   \n",
       "4        170             3          1    876.000    39954.0       5.0   \n",
       "...      ...           ...        ...        ...        ...       ...   \n",
       "2575     192             1          0   1180.000    10338.0       2.0   \n",
       "2576     192             0          0   1090.000     8073.0      11.0   \n",
       "2577     192             1          0   1295.000    10579.0       6.0   \n",
       "2578     192             1          0   1850.000     9243.0       6.0   \n",
       "2579     192             0          0   1100.000     8636.0       4.0   \n",
       "\n",
       "      Bedroom  Price_Lakh  \n",
       "0           3       399.5  \n",
       "1           3       240.0  \n",
       "2           1        95.0  \n",
       "3           3       375.0  \n",
       "4           2       350.0  \n",
       "...       ...         ...  \n",
       "2575        2       122.0  \n",
       "2576        2        88.0  \n",
       "2577        2       137.0  \n",
       "2578        3       171.0  \n",
       "2579        2        95.0  \n",
       "\n",
       "[2571 rows x 8 columns]"
      ]
     },
     "execution_count": 15,
     "metadata": {},
     "output_type": "execute_result"
    }
   ],
   "source": [
    "mum_prop"
   ]
  },
  {
   "cell_type": "code",
   "execution_count": 16,
   "id": "b516cc5e",
   "metadata": {},
   "outputs": [
    {
     "name": "stdout",
     "output_type": "stream",
     "text": [
      "<class 'pandas.core.frame.DataFrame'>\n",
      "Index: 2571 entries, 0 to 2579\n",
      "Data columns (total 8 columns):\n",
      " #   Column        Non-Null Count  Dtype  \n",
      "---  ------        --------------  -----  \n",
      " 0   Region        2571 non-null   int64  \n",
      " 1   Property_Age  2571 non-null   int64  \n",
      " 2   Area_Type     2571 non-null   int64  \n",
      " 3   Area_SqFt     2571 non-null   float64\n",
      " 4   Rate_SqFt     2571 non-null   float64\n",
      " 5   Floor_No      2571 non-null   float64\n",
      " 6   Bedroom       2571 non-null   int64  \n",
      " 7   Price_Lakh    2571 non-null   float64\n",
      "dtypes: float64(4), int64(4)\n",
      "memory usage: 180.8 KB\n"
     ]
    }
   ],
   "source": [
    "mum_prop.info()"
   ]
  },
  {
   "cell_type": "markdown",
   "id": "019ad117",
   "metadata": {},
   "source": [
    "### 4.3 Looking for Minimum & Maximum"
   ]
  },
  {
   "cell_type": "code",
   "execution_count": 17,
   "id": "cd0db835",
   "metadata": {},
   "outputs": [
    {
     "name": "stdout",
     "output_type": "stream",
     "text": [
      "Region Min value : 0 Max value : 209\n",
      "Property_Age Min value : 0 Max value : 5\n",
      "Area_Type Min value : 0 Max value : 3\n",
      "Area_SqFt Min value : 33.57 Max value : 1943.875\n",
      "Rate_SqFt Min value : 84.0 Max value : 43437.375\n",
      "Floor_No Min value : -1.0 Max value : 25.5\n",
      "Bedroom Min value : 1 Max value : 6\n",
      "Price_Lakh Min value : 13.0 Max value : 399.5\n"
     ]
    }
   ],
   "source": [
    "for i in mum_prop.columns:  \n",
    "    print(i,'Min value :', mum_prop[i].min(),'Max value :', mum_prop[i].max())"
   ]
  },
  {
   "cell_type": "markdown",
   "id": "4b90fdaa",
   "metadata": {},
   "source": [
    "## 4.4 correlation Heatmap"
   ]
  },
  {
   "cell_type": "code",
   "execution_count": 18,
   "id": "bb72ea14",
   "metadata": {},
   "outputs": [
    {
     "data": {
      "image/png": "[encoded data removed]",
      "text/plain": [
       "<Figure size 900x800 with 2 Axes>"
      ]
     },
     "metadata": {},
     "output_type": "display_data"
    }
   ],
   "source": [
    "fig = plt.figure( figsize =(9,8))\n",
    "rcParams = {'xtick.labelsize':'14','ytick.labelsize':'14','axes.labelsize':'16'}\n",
    "sns.heatmap(mum_prop.corr(),annot = True, linewidths=.5, cbar_kws={\"shrink\": .5},fmt='.2f', cmap='coolwarm')\n",
    "fig.suptitle('Heatmap Mumbai Property Data',fontsize=18, fontweight=\"bold\")\n",
    "pylab.rcParams.update(rcParams)\n",
    "fig.tight_layout()\n",
    "plt.show()\n",
    "\n",
    "fig.savefig('Heatmap_Encoding', dpi = 250)"
   ]
  },
  {
   "cell_type": "markdown",
   "id": "20889d8f",
   "metadata": {},
   "source": [
    "## 5. Model Building"
   ]
  },
  {
   "cell_type": "code",
   "execution_count": 19,
   "id": "9640ae15",
   "metadata": {},
   "outputs": [
    {
     "data": {
      "text/html": [
       "<div>\n",
       "<style scoped>\n",
       "    .dataframe tbody tr th:only-of-type {\n",
       "        vertical-align: middle;\n",
       "    }\n",
       "\n",
       "    .dataframe tbody tr th {\n",
       "        vertical-align: top;\n",
       "    }\n",
       "\n",
       "    .dataframe thead th {\n",
       "        text-align: right;\n",
       "    }\n",
       "</style>\n",
       "<table border=\"1\" class=\"dataframe\">\n",
       "  <thead>\n",
       "    <tr style=\"text-align: right;\">\n",
       "      <th></th>\n",
       "      <th>Region</th>\n",
       "      <th>Property_Age</th>\n",
       "      <th>Area_Type</th>\n",
       "      <th>Area_SqFt</th>\n",
       "      <th>Rate_SqFt</th>\n",
       "      <th>Floor_No</th>\n",
       "      <th>Bedroom</th>\n",
       "      <th>Price_Lakh</th>\n",
       "    </tr>\n",
       "  </thead>\n",
       "  <tbody>\n",
       "    <tr>\n",
       "      <th>0</th>\n",
       "      <td>63</td>\n",
       "      <td>0</td>\n",
       "      <td>3</td>\n",
       "      <td>1943.875</td>\n",
       "      <td>17241.0</td>\n",
       "      <td>14.0</td>\n",
       "      <td>3</td>\n",
       "      <td>399.5</td>\n",
       "    </tr>\n",
       "    <tr>\n",
       "      <th>1</th>\n",
       "      <td>111</td>\n",
       "      <td>1</td>\n",
       "      <td>3</td>\n",
       "      <td>1900.000</td>\n",
       "      <td>12631.0</td>\n",
       "      <td>8.0</td>\n",
       "      <td>3</td>\n",
       "      <td>240.0</td>\n",
       "    </tr>\n",
       "    <tr>\n",
       "      <th>2</th>\n",
       "      <td>45</td>\n",
       "      <td>2</td>\n",
       "      <td>3</td>\n",
       "      <td>595.000</td>\n",
       "      <td>15966.0</td>\n",
       "      <td>3.0</td>\n",
       "      <td>1</td>\n",
       "      <td>95.0</td>\n",
       "    </tr>\n",
       "    <tr>\n",
       "      <th>3</th>\n",
       "      <td>31</td>\n",
       "      <td>3</td>\n",
       "      <td>0</td>\n",
       "      <td>1450.000</td>\n",
       "      <td>25862.0</td>\n",
       "      <td>1.0</td>\n",
       "      <td>3</td>\n",
       "      <td>375.0</td>\n",
       "    </tr>\n",
       "    <tr>\n",
       "      <th>4</th>\n",
       "      <td>170</td>\n",
       "      <td>3</td>\n",
       "      <td>1</td>\n",
       "      <td>876.000</td>\n",
       "      <td>39954.0</td>\n",
       "      <td>5.0</td>\n",
       "      <td>2</td>\n",
       "      <td>350.0</td>\n",
       "    </tr>\n",
       "  </tbody>\n",
       "</table>\n",
       "</div>"
      ],
      "text/plain": [
       "   Region  Property_Age  Area_Type  Area_SqFt  Rate_SqFt  Floor_No  Bedroom  \\\n",
       "0      63             0          3   1943.875    17241.0      14.0        3   \n",
       "1     111             1          3   1900.000    12631.0       8.0        3   \n",
       "2      45             2          3    595.000    15966.0       3.0        1   \n",
       "3      31             3          0   1450.000    25862.0       1.0        3   \n",
       "4     170             3          1    876.000    39954.0       5.0        2   \n",
       "\n",
       "   Price_Lakh  \n",
       "0       399.5  \n",
       "1       240.0  \n",
       "2        95.0  \n",
       "3       375.0  \n",
       "4       350.0  "
      ]
     },
     "execution_count": 19,
     "metadata": {},
     "output_type": "execute_result"
    }
   ],
   "source": [
    "mum_prop.head()"
   ]
  },
  {
   "cell_type": "markdown",
   "id": "9dac491a",
   "metadata": {},
   "source": [
    "### 5.1 Train Test Split"
   ]
  },
  {
   "cell_type": "code",
   "execution_count": 20,
   "id": "a5668ca4",
   "metadata": {},
   "outputs": [],
   "source": [
    "X =  mum_prop.drop('Price_Lakh', axis = 1)\n",
    "y =  mum_prop['Price_Lakh']"
   ]
  },
  {
   "cell_type": "code",
   "execution_count": 21,
   "id": "9ec5ed7c",
   "metadata": {},
   "outputs": [],
   "source": [
    "X_train, X_test, y_train, y_test = train_test_split(X, y, test_size= 0.20, random_state = 12)"
   ]
  },
  {
   "cell_type": "code",
   "execution_count": 22,
   "id": "5ff43f36",
   "metadata": {},
   "outputs": [
    {
     "name": "stdout",
     "output_type": "stream",
     "text": [
      "(2056, 7) (515, 7)\n"
     ]
    }
   ],
   "source": [
    "print(X_train.shape, X_test.shape)"
   ]
  },
  {
   "cell_type": "markdown",
   "id": "3cd02f2e",
   "metadata": {},
   "source": [
    "### 5.2 Linear Regression"
   ]
  },
  {
   "cell_type": "code",
   "execution_count": 23,
   "id": "a3127ac9",
   "metadata": {},
   "outputs": [
    {
     "name": "stdout",
     "output_type": "stream",
     "text": [
      "Training Accuracy =  0.9171421408086226\n",
      "Test Accuracy     =  0.9075363914314135\n"
     ]
    }
   ],
   "source": [
    "from sklearn.linear_model import LinearRegression\n",
    "\n",
    "linear = LinearRegression()\n",
    "linear_model=linear.fit(X_train, y_train)\n",
    "\n",
    "print(\"Training Accuracy = \", linear.score(X_train, y_train))\n",
    "print(\"Test Accuracy     = \", linear.score(X_test, y_test))\n"
   ]
  },
  {
   "cell_type": "markdown",
   "id": "7f2be0f8",
   "metadata": {},
   "source": [
    "## Find R2 Score"
   ]
  },
  {
   "cell_type": "code",
   "execution_count": 24,
   "id": "75decbab",
   "metadata": {},
   "outputs": [
    {
     "name": "stdout",
     "output_type": "stream",
     "text": [
      "R² Score (Test)   =  0.9075363914314135\n"
     ]
    }
   ],
   "source": [
    "from sklearn.metrics import r2_score\n",
    "import numpy as np\n",
    "\n",
    "# Predictions\n",
    "y_pred = linear_model.predict(X_test)\n",
    "\n",
    "# R² Score\n",
    "r2 = r2_score(y_test, y_pred)\n",
    "print(\"R² Score (Test)   = \", r2)\n",
    "\n",
    "\n"
   ]
  },
  {
   "cell_type": "markdown",
   "id": "02cb4256",
   "metadata": {},
   "source": [
    "## Obeservaion :\n",
    "### 1. We select the final model -  LinearRegression.\n",
    "### 2. We got 90.75% Model Accuracy."
   ]
  },
  {
   "cell_type": "markdown",
   "id": "ff9b50ed",
   "metadata": {},
   "source": [
    "## 6. Final Model Evaluation"
   ]
  },
  {
   "cell_type": "code",
   "execution_count": 25,
   "id": "14459727",
   "metadata": {},
   "outputs": [],
   "source": [
    "def evaluate(model, test_features, test_labels):\n",
    "    predictions = model.predict(test_features)\n",
    "    errors = abs(predictions - test_labels)\n",
    "    accuracy = model.score(test_features, test_labels)\n",
    "\n",
    "    print('Average Error  = {:0.4f} degrees'.format(np.mean(errors)))\n",
    "    print('Model Accuracy = {:0.4f} %'.format(accuracy))"
   ]
  },
  {
   "cell_type": "code",
   "execution_count": 26,
   "id": "f4b64945",
   "metadata": {},
   "outputs": [
    {
     "name": "stdout",
     "output_type": "stream",
     "text": [
      "Average Error  = 22.6342 degrees\n",
      "Model Accuracy = 0.9171 %\n"
     ]
    }
   ],
   "source": [
    "evaluate (linear_model, X_train, y_train)"
   ]
  },
  {
   "cell_type": "code",
   "execution_count": null,
   "id": "4e0bc1d5",
   "metadata": {},
   "outputs": [],
   "source": []
  },
  {
   "cell_type": "markdown",
   "id": "aeeaa618",
   "metadata": {},
   "source": [
    "### 6.1 Visualizing Results"
   ]
  },
  {
   "cell_type": "code",
   "execution_count": 27,
   "id": "b0ad256c",
   "metadata": {},
   "outputs": [],
   "source": [
    "pred = linear_model.predict(X_test)"
   ]
  },
  {
   "cell_type": "code",
   "execution_count": 28,
   "id": "051f3c10",
   "metadata": {},
   "outputs": [
    {
     "name": "stdout",
     "output_type": "stream",
     "text": [
      "Index(['Region', 'Property_Age', 'Area_Type', 'Area_SqFt', 'Rate_SqFt',\n",
      "       'Floor_No', 'Bedroom'],\n",
      "      dtype='object')\n"
     ]
    }
   ],
   "source": [
    "print(X_test.columns)\n"
   ]
  },
  {
   "cell_type": "code",
   "execution_count": 29,
   "id": "53c19fdc",
   "metadata": {},
   "outputs": [
    {
     "data": {
      "image/png": "[encoded data removed]",
      "text/plain": [
       "<Figure size 800x700 with 1 Axes>"
      ]
     },
     "metadata": {},
     "output_type": "display_data"
    }
   ],
   "source": [
    "# Choose one feature from X_test to plot against\n",
    "feature_name = 'Bedroom'  # change this to the actual column you want\n",
    "x_values = X_test[feature_name]\n",
    "\n",
    "fig = plt.figure(figsize=(8,7))\n",
    "\n",
    "sns.scatterplot(x=x_values, y=y_test, label='Actual', color='blue')\n",
    "sns.scatterplot(x=x_values, y=pred, label='Predicted', color='red')\n",
    "\n",
    "fig.suptitle('Prediction using LinearRegression', fontsize=18, fontweight='bold')\n",
    "plt.xlabel(feature_name)\n",
    "plt.ylabel(\"Price\")\n",
    "plt.legend()\n",
    "fig.tight_layout()\n",
    "fig.subplots_adjust(top=0.92)\n",
    "plt.show()\n"
   ]
  },
  {
   "cell_type": "code",
   "execution_count": 30,
   "id": "af76d16a",
   "metadata": {},
   "outputs": [],
   "source": [
    "# # Choose one feature from X_test to plot against\n",
    "# feature_name = 'Area'  # change this to the actual column you want\n",
    "# x_values = X_test[feature_name]\n",
    "\n",
    "# fig = plt.figure(figsize=(8,7))\n",
    "\n",
    "# sns.scatterplot(x=x_values, y=y_test, label='Actual', color='blue')\n",
    "# sns.scatterplot(x=x_values, y=pred, label='Predicted', color='red')\n",
    "\n",
    "# fig.suptitle('Prediction using LinearRegression', fontsize=18, fontweight='bold')\n",
    "# plt.xlabel(feature_name)\n",
    "# plt.ylabel(\"Price\")\n",
    "# plt.legend()\n",
    "# fig.tight_layout()\n",
    "# fig.subplots_adjust(top=0.92)\n",
    "# plt.show()\n"
   ]
  },
  {
   "cell_type": "code",
   "execution_count": null,
   "id": "a86d3df6",
   "metadata": {},
   "outputs": [],
   "source": []
  },
  {
   "cell_type": "code",
   "execution_count": 31,
   "id": "cd999210",
   "metadata": {},
   "outputs": [],
   "source": [
    "# from sklearn.pipeline import Pipeline\n",
    "# from sklearn.preprocessing import PolynomialFeatures\n",
    "\n",
    "# poly = PolynomialFeatures(degree=2)\n",
    "# poly.fit_transform(X)\n",
    "\n",
    "# # Define the pipeline and train model\n",
    "# poly_model = Pipeline([('poly', PolynomialFeatures(degree=2)), ('linear', LinearRegression(fit_intercept=False))])\n",
    "# poly_model.fit(X_train, y_train)\n",
    "\n",
    "# # Calculate the Score\n",
    "# print(\"Training Accuracy = \", poly_model.score(X_train, y_train))\n",
    "# print(\"Test Accuracy     = \", poly_model.score(X_test, y_test))"
   ]
  },
  {
   "cell_type": "markdown",
   "id": "717d748b",
   "metadata": {},
   "source": [
    "<!-- ## Obeservaion :\n",
    "### 1. We select the final model - Polynomial Feature.\n",
    "### 2. We got 92.19 % Model Accuracy. -->"
   ]
  },
  {
   "cell_type": "markdown",
   "id": "e14ad97c",
   "metadata": {},
   "source": [
    "<!-- ## 6. Final Model Evaluation -->"
   ]
  },
  {
   "cell_type": "code",
   "execution_count": 32,
   "id": "9001a814",
   "metadata": {},
   "outputs": [],
   "source": [
    "# def evaluate(model, test_features, test_labels):\n",
    "#     predictions = model.predict(test_features)\n",
    "#     errors = abs(predictions - test_labels)\n",
    "#     accuracy = model.score(test_features, test_labels)\n",
    "\n",
    "#     print('Average Error  = {:0.4f} degrees'.format(np.mean(errors)))\n",
    "#     print('Model Accuracy = {:0.4f} %'.format(accuracy))"
   ]
  },
  {
   "cell_type": "code",
   "execution_count": 33,
   "id": "76be2ad4",
   "metadata": {},
   "outputs": [],
   "source": [
    "# evaluate (poly_model, X_train, y_train)"
   ]
  },
  {
   "cell_type": "code",
   "execution_count": 34,
   "id": "04715ce0",
   "metadata": {},
   "outputs": [],
   "source": [
    "# evaluate(poly_model, X_test, y_test)"
   ]
  },
  {
   "cell_type": "markdown",
   "id": "37dfd8f6",
   "metadata": {},
   "source": [
    "<!-- ### 6.1 Visualizing Results -->"
   ]
  },
  {
   "cell_type": "code",
   "execution_count": 35,
   "id": "0826df4d",
   "metadata": {},
   "outputs": [],
   "source": [
    "# pred = poly_model.predict(X_test)"
   ]
  },
  {
   "cell_type": "code",
   "execution_count": 36,
   "id": "5f40147e",
   "metadata": {},
   "outputs": [],
   "source": [
    "# fig = plt.figure(figsize=(8,7))\n",
    "\n",
    "# sns.scatterplot(x=y_test, y=pred)\n",
    "# fig.suptitle('Prediction using Polynomial', fontsize= 18 , fontweight='bold')\n",
    "# plt.xlabel(\"Actual\")\n",
    "# plt.ylabel(\"Prediction\")\n",
    "# pylab.rcParams.update(rcParams)\n",
    "# fig.tight_layout()\n",
    "# fig.subplots_adjust(top=0.92)\n",
    "# plt.show()\n",
    "\n",
    "# #fig.savefig('Prediction_Polynomial', dpi = 500)"
   ]
  },
  {
   "cell_type": "code",
   "execution_count": null,
   "id": "48965406",
   "metadata": {},
   "outputs": [],
   "source": []
  }
 ],
 "metadata": {
  "kernelspec": {
   "display_name": "Python 3",
   "language": "python",
   "name": "python3"
  },
  "language_info": {
   "codemirror_mode": {
    "name": "ipython",
    "version": 3
   },
   "file_extension": ".py",
   "mimetype": "text/x-python",
   "name": "python",
   "nbconvert_exporter": "python",
   "pygments_lexer": "ipython3",
   "version": "3.13.1"
  }
 },
 "nbformat": 4,
 "nbformat_minor": 5
}
